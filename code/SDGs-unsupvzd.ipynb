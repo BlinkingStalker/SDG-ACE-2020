{
 "cells": [
  {
   "cell_type": "code",
   "execution_count": null,
   "metadata": {
    "collapsed": true
   },
   "outputs": [],
   "source": [
    "import os\n",
    "import argparse\n",
    "from train_option import global_train_parser\n",
    "import warnings\n",
    "from utils.train_base import check_options, load_data, Setup_model, Out_Wordemb, Save_Emb\n",
    "from utils.minibatch_processing import Generate_MiniBatch\n",
    "from utils.train_class import Langage_Model_Class, Trainer\n",
    "\n",
    "import torch\n",
    "import torch.nn as nn\n",
    "\n",
    "class SDGs_unsuper_Model(nn.Module):\n",
    "    def __init__(self, n_layer, emb_size, h_size, dr_rate, vocab_dict,*args):\n",
    "        super().__init__()\n",
    "\n",
    "        self.dr_rate = dr_rate\n",
    "        self.Ws_share = nn.Linear(h_size, 1, bias=False)\n",
    "        self.lstm_fwd = nn.LSTM(input_size=emb_size,hidden_size=h_size,num_layers=n_layer,batch_first=True,dropout=dr_rate)\n",
    "        self.lstm_bkw = nn.LSTM(input_size=emb_size,hidden_size=h_size,num_layers=n_layer,batch_first=True,dropout=dr_rate)\n",
    "        self.dropout = nn.Dropout(p=dr_rate)\n",
    "\n",
    "        Max_Word_idx = max(vocab_dict.id2vocab_input[-1].keys())+1\n",
    "        self.emb = nn.Embedding(Max_Word_idx, emb_size, padding_idx= vocab_dict.vocab2id_input[0][\"<PAD>\"])\n",
    "        layer = []\n",
    "        for lang in range(len(vocab_dict.id2vocab_output)):\n",
    "            layer.append(nn.Linear(h_size, vocab_dict.V_size[lang]-1, bias=False))\n",
    "        self.Ws_i = nn.ModuleList(layer)\n",
    "\n",
    "    def __call__(self, BOS_t_id, t_lengths, *args):\n",
    "        return self.forward(BOS_t_id, t_lengths, *args)\n",
    "\n",
    "    def Switch_Lang(self, lang):\n",
    "        self.lang = lang\n",
    "\n",
    "    def Switch_fwdbkw(self,type):\n",
    "        if (type == \"fwd\"):\n",
    "            self.lstm = self.lstm_fwd\n",
    "        elif (type == \"bkw\"):\n",
    "            self.lstm = self.lstm_bkw\n",
    "        else:\n",
    "            raise Exception(\"Invalid type\")\n",
    "\n",
    "    def forward(self,input_id, input_id_len, *args):\n",
    "        ht = self.decode(input_id, input_id_len, *args)\n",
    "        score_V = self.Ws_i[self.lang](self.dropout(ht))\n",
    "        score_eos = self.Ws_share(self.dropout(ht))\n",
    "        score = torch.cat([score_eos, score_V], dim=2)\n",
    "        return score\n",
    "\n",
    "    def decode(self, input_id, input_id_len, *args):\n",
    "        input_id_emb = self.emb(input_id)\n",
    "        ht, (h_last, c_last) = self.lstm(input_id_emb)\n",
    "        return  ht\n",
    "\n",
    "    def set_device(self,is_cuda):\n",
    "        if is_cuda:\n",
    "            self.torch = torch.cuda\n",
    "        else:\n",
    "            self.torch = torch\n"
   ]
  },
  {
   "cell_type": "code",
   "execution_count": null,
   "outputs": [],
   "source": [
    "parser = argparse.ArgumentParser(parents=[global_train_parser])\n",
    "opt = parser.parse_args()"
   ],
   "metadata": {
    "collapsed": false,
    "pycharm": {
     "name": "#%%\n"
    }
   }
  },
  {
   "cell_type": "code",
   "execution_count": null,
   "outputs": [],
   "source": [
    "if (os.path.isdir(opt.save_dir)):\n",
    "    message = 'Directory ' + \"'\" + opt.save_dir + \"'\" +' already exists.'\n",
    "    warnings.warn(message)\n",
    "else:\n",
    "    os.mkdir(opt.save_dir)"
   ],
   "metadata": {
    "collapsed": false,
    "pycharm": {
     "name": "#%%\n"
    }
   }
  },
  {
   "cell_type": "code",
   "execution_count": null,
   "outputs": [],
   "source": [
    "check_options(opt)"
   ],
   "metadata": {
    "collapsed": false,
    "pycharm": {
     "name": "#%%\n"
    }
   }
  },
  {
   "cell_type": "code",
   "execution_count": null,
   "outputs": [],
   "source": [
    "file_name = opt.save_dir + '/' + opt.data\n",
    "print(\"Save model as: \", file_name)"
   ],
   "metadata": {
    "collapsed": false,
    "pycharm": {
     "name": "#%%\n"
    }
   }
  },
  {
   "cell_type": "code",
   "execution_count": null,
   "outputs": [],
   "source": [
    "dataset, vocab_dict = load_data(opt.data)\n",
    "dataset = Generate_MiniBatch(dataset, opt.batch_size)\n",
    "print(\"Number of mini-batches\", len(dataset.batch_idx_list))"
   ],
   "metadata": {
    "collapsed": false,
    "pycharm": {
     "name": "#%%\n"
    }
   }
  },
  {
   "cell_type": "code",
   "execution_count": null,
   "outputs": [],
   "source": [
    "lm = SDGs_unsuper_Model(opt.n_layer, opt.emb_size,  opt.h_size, opt.dr_rate, vocab_dict)\n",
    "model = Langage_Model_Class(lm, len(vocab_dict.vocab2id_input), vocab_dict.vocab2id_input[0],vocab_dict.vocab2id_output[0])"
   ],
   "metadata": {
    "collapsed": false,
    "pycharm": {
     "name": "#%%\n"
    }
   }
  },
  {
   "cell_type": "code",
   "execution_count": null,
   "outputs": [],
   "source": [
    "model = Setup_model(model, opt.gpuid, vocab_dict)"
   ],
   "metadata": {
    "collapsed": false,
    "pycharm": {
     "name": "#%%\n"
    }
   }
  },
  {
   "cell_type": "code",
   "execution_count": null,
   "outputs": [],
   "source": [
    "trainer = Trainer(dataset, file_name)\n",
    "trainer.set_optimiser(model, opt.opt_type, opt.learning_rate)\n",
    "bestmodel = trainer.main(model, opt.epoch_size, opt.stop_threshold, opt.remove_models)"
   ],
   "metadata": {
    "collapsed": false,
    "pycharm": {
     "name": "#%%\n"
    }
   }
  },
  {
   "cell_type": "code",
   "execution_count": null,
   "outputs": [],
   "source": [
    "print(\"save embeddings\")\n",
    "vocab2emb_list = Out_Wordemb(vocab_dict.id2vocab_input, bestmodel.lm)\n",
    "Save_Emb(vocab2emb_list, opt.emb_size, file_name)\n"
   ],
   "metadata": {
    "collapsed": false,
    "pycharm": {
     "name": "#%%\n"
    }
   }
  },
  {
   "cell_type": "code",
   "execution_count": null,
   "outputs": [],
   "source": [
    "\n"
   ],
   "metadata": {
    "collapsed": false,
    "pycharm": {
     "name": "#%%\n"
    }
   }
  },
  {
   "cell_type": "code",
   "execution_count": null,
   "outputs": [],
   "source": [
    "\n"
   ],
   "metadata": {
    "collapsed": false,
    "pycharm": {
     "name": "#%%\n"
    }
   }
  },
  {
   "cell_type": "code",
   "execution_count": null,
   "outputs": [],
   "source": [
    "\n"
   ],
   "metadata": {
    "collapsed": false,
    "pycharm": {
     "name": "#%%\n"
    }
   }
  },
  {
   "cell_type": "code",
   "execution_count": null,
   "outputs": [],
   "source": [
    "\n"
   ],
   "metadata": {
    "collapsed": false,
    "pycharm": {
     "name": "#%%\n"
    }
   }
  },
  {
   "cell_type": "code",
   "execution_count": null,
   "outputs": [],
   "source": [],
   "metadata": {
    "collapsed": false,
    "pycharm": {
     "name": "#%%\n"
    }
   }
  },
  {
   "cell_type": "code",
   "execution_count": null,
   "outputs": [],
   "source": [
    "\n"
   ],
   "metadata": {
    "collapsed": false,
    "pycharm": {
     "name": "#%%\n"
    }
   }
  },
  {
   "cell_type": "code",
   "execution_count": null,
   "outputs": [],
   "source": [],
   "metadata": {
    "collapsed": false,
    "pycharm": {
     "name": "#%%\n"
    }
   }
  },
  {
   "cell_type": "code",
   "execution_count": null,
   "outputs": [],
   "source": [],
   "metadata": {
    "collapsed": false,
    "pycharm": {
     "name": "#%%\n"
    }
   }
  },
  {
   "cell_type": "code",
   "execution_count": null,
   "outputs": [],
   "source": [],
   "metadata": {
    "collapsed": false,
    "pycharm": {
     "name": "#%%\n"
    }
   }
  }
 ],
 "metadata": {
  "kernelspec": {
   "display_name": "Python 3",
   "language": "python",
   "name": "python3"
  },
  "language_info": {
   "codemirror_mode": {
    "name": "ipython",
    "version": 2
   },
   "file_extension": ".py",
   "mimetype": "text/x-python",
   "name": "python",
   "nbconvert_exporter": "python",
   "pygments_lexer": "ipython2",
   "version": "2.7.6"
  }
 },
 "nbformat": 4,
 "nbformat_minor": 0
}